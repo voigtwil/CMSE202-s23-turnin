{
 "cells": [
  {
   "cell_type": "markdown",
   "metadata": {},
   "source": [
    "# Homework Assignment #4 (Individual)\n",
    "## Regression and SVM Predictive Models"
   ]
  },
  {
   "cell_type": "markdown",
   "metadata": {},
   "source": [
    "### <p style=\"text-align: right;\"> &#9989; William Voigt.</p>\n",
    "### <p style=\"text-align: right;\"> &#9989; voigtwil</p>"
   ]
  },
  {
   "cell_type": "markdown",
   "metadata": {},
   "source": [
    "### Goal for this homework assignment\n",
    "By now, you have learned a bit about predictive models. In this assignment, you will practice:\n",
    "\n",
    "* Building predictive models using `statsmodels` and `sklearn`\n",
    "* Evaluating your predictive models\n",
    "\n",
    "**This assignment is due roughly two weeks from now at 11:59 pm on Friday, April 21st.** It should be uploaded into the \"Homework Assignments\" submission folder for Homework #4.  Submission instructions can be found at the end of the notebook.\n"
   ]
  },
  {
   "cell_type": "markdown",
   "metadata": {},
   "source": [
    "---\n",
    "## Part 0: Add to your Git repository to track your progress on your assignment (4 points)\n",
    "\n",
    "For this assignment, you're going to add it to the `cmse202-s23-turnin` repository you created in class so that you can track your progress on the assignment and preserve the final version that you turn in. In order to do this you need to\n",
    "\n",
    "**&#9989; Do the following**:\n",
    "\n",
    "1. Navigate to your `cmse202-s23-turnin` repository and create a new directory called `hw-04`.\n",
    "2. Move this notebook into that **new directory** in your repository, then **add it and commit it to your repository**.\n",
    "1. Finally, to test that everything is working, \"git push\" the file so that it ends up in your GitHub repository.\n",
    "\n",
    "**Important**: Double check you've added your Professor and your TA as collaborators to your \"turnin\" repository (you should have done this in the previous homework assignment).\n",
    "\n",
    "**Also important**: Make sure that the version of this notebook that you are working on is the same one that you just added to your repository! If you are working on a different copy of the notebook, **none of your changes will be tracked**!\n",
    "\n",
    "If everything went as intended, the file should now show up on your GitHub account in the \"`cmse202-s23-turnin`\" repository inside the `hw-04` directory that you just created.  Periodically, **you'll be asked to commit your changes to the repository and push them to the remote GitHub location**. Of course, you can always commit your changes more often than that, if you wish.  It can be good to get into a habit of committing your changes any time you make a significant modification, or when you stop working on the project for a bit.\n",
    "\n",
    "&#9989; **Do this**: Before you move on, put the command that your instructor should run to clone your repository in the markdown cell below."
   ]
  },
  {
   "cell_type": "markdown",
   "metadata": {},
   "source": []
  },
  {
   "cell_type": "markdown",
   "metadata": {},
   "source": [
    "# Building a Model to Predict if it Will Rain Tomorrow\n",
    "\n",
    "In this dataset we have weather data for a number of Australian cities. We’re going to **build a model that uses data from today to predict if it will rain tomorrow.** To simplify our model, let’s just look at the weather for one city.\n",
    "\n",
    "## Part 1. Working with the Data\n",
    "\n",
    "The dataset that we’ll be using can be found here:\n",
    "- `https://raw.githubusercontent.com/msu-cmse-courses/cmse202-S23-data/main/HW/HW4/aussie_weather_data.csv`\n",
    "\n",
    "#### 1.1 (3 Points)\n",
    "**Download the data set and read it in using Pandas.**"
   ]
  },
  {
   "cell_type": "code",
   "execution_count": 6,
   "metadata": {},
   "outputs": [],
   "source": [
    "#Write your code here\n",
    "import pandas as pd\n",
    "\n",
    "aussie_weather_data = pd.read_csv(\"aussie_weather_data\")\n",
    "\n"
   ]
  },
  {
   "cell_type": "markdown",
   "metadata": {},
   "source": [
    "#### 1.2 (3 Points)\n",
    "This dataset has weather information for multiple cities in Australia. It’s quite a large dataset. In fact, it’s a little *too* large for our purposes; it will take a considerable amount of time to train a model on so much data. So we’ll just work with the data for a specific city.\n",
    "\n",
    "The first thing we’ll do is see which cities we have data for. \n",
    "**Print out a list of the specific cities in this dataset.** (Note that this is not the same as printing the entire `Location` column.)"
   ]
  },
  {
   "cell_type": "code",
   "execution_count": 7,
   "metadata": {},
   "outputs": [
    {
     "data": {
      "text/plain": [
       "['NorfolkIsland',\n",
       " 'SydneyAirport',\n",
       " 'WaggaWagga',\n",
       " 'MelbourneAirport',\n",
       " 'Mildura',\n",
       " 'Watsonia',\n",
       " 'Brisbane',\n",
       " 'Cairns',\n",
       " 'Townsville',\n",
       " 'MountGambier',\n",
       " 'Nuriootpa',\n",
       " 'PerthAirport',\n",
       " 'Perth',\n",
       " 'AliceSprings',\n",
       " 'Darwin']"
      ]
     },
     "execution_count": 7,
     "metadata": {},
     "output_type": "execute_result"
    }
   ],
   "source": [
    "#Write your code here\n",
    "\n",
    "specific_cities = []\n",
    "\n",
    "for i in aussie_weather_data[\"Location\"]:\n",
    "    if i not in specific_cities:\n",
    "        specific_cities.append(i)\n",
    "    \n",
    "specific_cities"
   ]
  },
  {
   "cell_type": "markdown",
   "metadata": {},
   "source": [
    "#### 1.3 (3 Points)\n",
    "Select one of the cities (and **please** don't just pick the first one!). Cut down your dataframe so that it only contains data from your chosen city. You should also **look through the columns in this dataset and ensure that all of the data is ready for our analysis/model creation.**"
   ]
  },
  {
   "cell_type": "code",
   "execution_count": 8,
   "metadata": {},
   "outputs": [
    {
     "data": {
      "text/html": [
       "<div>\n",
       "<style scoped>\n",
       "    .dataframe tbody tr th:only-of-type {\n",
       "        vertical-align: middle;\n",
       "    }\n",
       "\n",
       "    .dataframe tbody tr th {\n",
       "        vertical-align: top;\n",
       "    }\n",
       "\n",
       "    .dataframe thead th {\n",
       "        text-align: right;\n",
       "    }\n",
       "</style>\n",
       "<table border=\"1\" class=\"dataframe\">\n",
       "  <thead>\n",
       "    <tr style=\"text-align: right;\">\n",
       "      <th></th>\n",
       "      <th>Year</th>\n",
       "      <th>Month</th>\n",
       "      <th>DayOfMonth</th>\n",
       "      <th>Location</th>\n",
       "      <th>MinTemp</th>\n",
       "      <th>MaxTemp</th>\n",
       "      <th>Rainfall</th>\n",
       "      <th>Evaporation</th>\n",
       "      <th>Sunshine</th>\n",
       "      <th>WindGustDir</th>\n",
       "      <th>...</th>\n",
       "      <th>Humidity9am</th>\n",
       "      <th>Humidity3pm</th>\n",
       "      <th>Pressure9am</th>\n",
       "      <th>Pressure3pm</th>\n",
       "      <th>Cloud9am</th>\n",
       "      <th>Cloud3pm</th>\n",
       "      <th>Temp9am</th>\n",
       "      <th>Temp3pm</th>\n",
       "      <th>RainToday</th>\n",
       "      <th>RainTomorrow</th>\n",
       "    </tr>\n",
       "  </thead>\n",
       "  <tbody>\n",
       "    <tr>\n",
       "      <th>5334</th>\n",
       "      <td>2009</td>\n",
       "      <td>1</td>\n",
       "      <td>1</td>\n",
       "      <td>WaggaWagga</td>\n",
       "      <td>9.9</td>\n",
       "      <td>28.4</td>\n",
       "      <td>0.0</td>\n",
       "      <td>9.8</td>\n",
       "      <td>13.5</td>\n",
       "      <td>157.5</td>\n",
       "      <td>...</td>\n",
       "      <td>37.0</td>\n",
       "      <td>24.0</td>\n",
       "      <td>1005.2</td>\n",
       "      <td>1003.5</td>\n",
       "      <td>1.0</td>\n",
       "      <td>1.0</td>\n",
       "      <td>20.8</td>\n",
       "      <td>27.0</td>\n",
       "      <td>0</td>\n",
       "      <td>0</td>\n",
       "    </tr>\n",
       "    <tr>\n",
       "      <th>5335</th>\n",
       "      <td>2009</td>\n",
       "      <td>1</td>\n",
       "      <td>2</td>\n",
       "      <td>WaggaWagga</td>\n",
       "      <td>8.9</td>\n",
       "      <td>25.3</td>\n",
       "      <td>0.0</td>\n",
       "      <td>14.8</td>\n",
       "      <td>13.7</td>\n",
       "      <td>202.5</td>\n",
       "      <td>...</td>\n",
       "      <td>37.0</td>\n",
       "      <td>10.0</td>\n",
       "      <td>1013.9</td>\n",
       "      <td>1012.9</td>\n",
       "      <td>1.0</td>\n",
       "      <td>0.0</td>\n",
       "      <td>14.7</td>\n",
       "      <td>23.2</td>\n",
       "      <td>0</td>\n",
       "      <td>0</td>\n",
       "    </tr>\n",
       "    <tr>\n",
       "      <th>5336</th>\n",
       "      <td>2009</td>\n",
       "      <td>1</td>\n",
       "      <td>3</td>\n",
       "      <td>WaggaWagga</td>\n",
       "      <td>11.0</td>\n",
       "      <td>30.7</td>\n",
       "      <td>0.0</td>\n",
       "      <td>9.8</td>\n",
       "      <td>13.7</td>\n",
       "      <td>67.5</td>\n",
       "      <td>...</td>\n",
       "      <td>43.0</td>\n",
       "      <td>18.0</td>\n",
       "      <td>1017.8</td>\n",
       "      <td>1014.3</td>\n",
       "      <td>0.0</td>\n",
       "      <td>1.0</td>\n",
       "      <td>18.9</td>\n",
       "      <td>28.0</td>\n",
       "      <td>0</td>\n",
       "      <td>0</td>\n",
       "    </tr>\n",
       "    <tr>\n",
       "      <th>5337</th>\n",
       "      <td>2009</td>\n",
       "      <td>1</td>\n",
       "      <td>4</td>\n",
       "      <td>WaggaWagga</td>\n",
       "      <td>14.7</td>\n",
       "      <td>35.2</td>\n",
       "      <td>0.0</td>\n",
       "      <td>9.4</td>\n",
       "      <td>12.1</td>\n",
       "      <td>90.0</td>\n",
       "      <td>...</td>\n",
       "      <td>46.0</td>\n",
       "      <td>19.0</td>\n",
       "      <td>1014.8</td>\n",
       "      <td>1010.6</td>\n",
       "      <td>1.0</td>\n",
       "      <td>4.0</td>\n",
       "      <td>24.7</td>\n",
       "      <td>33.7</td>\n",
       "      <td>0</td>\n",
       "      <td>0</td>\n",
       "    </tr>\n",
       "    <tr>\n",
       "      <th>5338</th>\n",
       "      <td>2009</td>\n",
       "      <td>1</td>\n",
       "      <td>5</td>\n",
       "      <td>WaggaWagga</td>\n",
       "      <td>11.8</td>\n",
       "      <td>36.5</td>\n",
       "      <td>0.0</td>\n",
       "      <td>11.6</td>\n",
       "      <td>13.4</td>\n",
       "      <td>180.0</td>\n",
       "      <td>...</td>\n",
       "      <td>23.0</td>\n",
       "      <td>5.0</td>\n",
       "      <td>1013.1</td>\n",
       "      <td>1009.8</td>\n",
       "      <td>1.0</td>\n",
       "      <td>1.0</td>\n",
       "      <td>23.6</td>\n",
       "      <td>34.6</td>\n",
       "      <td>0</td>\n",
       "      <td>0</td>\n",
       "    </tr>\n",
       "    <tr>\n",
       "      <th>...</th>\n",
       "      <td>...</td>\n",
       "      <td>...</td>\n",
       "      <td>...</td>\n",
       "      <td>...</td>\n",
       "      <td>...</td>\n",
       "      <td>...</td>\n",
       "      <td>...</td>\n",
       "      <td>...</td>\n",
       "      <td>...</td>\n",
       "      <td>...</td>\n",
       "      <td>...</td>\n",
       "      <td>...</td>\n",
       "      <td>...</td>\n",
       "      <td>...</td>\n",
       "      <td>...</td>\n",
       "      <td>...</td>\n",
       "      <td>...</td>\n",
       "      <td>...</td>\n",
       "      <td>...</td>\n",
       "      <td>...</td>\n",
       "      <td>...</td>\n",
       "    </tr>\n",
       "    <tr>\n",
       "      <th>7745</th>\n",
       "      <td>2016</td>\n",
       "      <td>4</td>\n",
       "      <td>22</td>\n",
       "      <td>WaggaWagga</td>\n",
       "      <td>14.7</td>\n",
       "      <td>24.2</td>\n",
       "      <td>1.4</td>\n",
       "      <td>2.8</td>\n",
       "      <td>7.9</td>\n",
       "      <td>225.0</td>\n",
       "      <td>...</td>\n",
       "      <td>85.0</td>\n",
       "      <td>52.0</td>\n",
       "      <td>1021.7</td>\n",
       "      <td>1018.9</td>\n",
       "      <td>1.0</td>\n",
       "      <td>3.0</td>\n",
       "      <td>17.5</td>\n",
       "      <td>22.0</td>\n",
       "      <td>1</td>\n",
       "      <td>0</td>\n",
       "    </tr>\n",
       "    <tr>\n",
       "      <th>7746</th>\n",
       "      <td>2016</td>\n",
       "      <td>4</td>\n",
       "      <td>23</td>\n",
       "      <td>WaggaWagga</td>\n",
       "      <td>9.6</td>\n",
       "      <td>23.5</td>\n",
       "      <td>0.0</td>\n",
       "      <td>3.4</td>\n",
       "      <td>10.7</td>\n",
       "      <td>67.5</td>\n",
       "      <td>...</td>\n",
       "      <td>56.0</td>\n",
       "      <td>24.0</td>\n",
       "      <td>1026.2</td>\n",
       "      <td>1024.2</td>\n",
       "      <td>1.0</td>\n",
       "      <td>1.0</td>\n",
       "      <td>15.7</td>\n",
       "      <td>22.5</td>\n",
       "      <td>0</td>\n",
       "      <td>0</td>\n",
       "    </tr>\n",
       "    <tr>\n",
       "      <th>7747</th>\n",
       "      <td>2016</td>\n",
       "      <td>4</td>\n",
       "      <td>24</td>\n",
       "      <td>WaggaWagga</td>\n",
       "      <td>7.5</td>\n",
       "      <td>24.1</td>\n",
       "      <td>0.0</td>\n",
       "      <td>3.6</td>\n",
       "      <td>10.7</td>\n",
       "      <td>22.5</td>\n",
       "      <td>...</td>\n",
       "      <td>48.0</td>\n",
       "      <td>25.0</td>\n",
       "      <td>1030.6</td>\n",
       "      <td>1027.6</td>\n",
       "      <td>0.0</td>\n",
       "      <td>1.0</td>\n",
       "      <td>15.0</td>\n",
       "      <td>23.7</td>\n",
       "      <td>0</td>\n",
       "      <td>0</td>\n",
       "    </tr>\n",
       "    <tr>\n",
       "      <th>7748</th>\n",
       "      <td>2016</td>\n",
       "      <td>4</td>\n",
       "      <td>25</td>\n",
       "      <td>WaggaWagga</td>\n",
       "      <td>8.0</td>\n",
       "      <td>24.2</td>\n",
       "      <td>0.0</td>\n",
       "      <td>3.8</td>\n",
       "      <td>10.4</td>\n",
       "      <td>22.5</td>\n",
       "      <td>...</td>\n",
       "      <td>63.0</td>\n",
       "      <td>32.0</td>\n",
       "      <td>1032.0</td>\n",
       "      <td>1027.8</td>\n",
       "      <td>0.0</td>\n",
       "      <td>1.0</td>\n",
       "      <td>16.0</td>\n",
       "      <td>23.7</td>\n",
       "      <td>0</td>\n",
       "      <td>0</td>\n",
       "    </tr>\n",
       "    <tr>\n",
       "      <th>7749</th>\n",
       "      <td>2016</td>\n",
       "      <td>4</td>\n",
       "      <td>26</td>\n",
       "      <td>WaggaWagga</td>\n",
       "      <td>7.8</td>\n",
       "      <td>25.3</td>\n",
       "      <td>0.0</td>\n",
       "      <td>4.0</td>\n",
       "      <td>10.5</td>\n",
       "      <td>67.5</td>\n",
       "      <td>...</td>\n",
       "      <td>55.0</td>\n",
       "      <td>22.0</td>\n",
       "      <td>1030.2</td>\n",
       "      <td>1025.4</td>\n",
       "      <td>0.0</td>\n",
       "      <td>3.0</td>\n",
       "      <td>15.3</td>\n",
       "      <td>24.8</td>\n",
       "      <td>0</td>\n",
       "      <td>0</td>\n",
       "    </tr>\n",
       "  </tbody>\n",
       "</table>\n",
       "<p>2416 rows × 25 columns</p>\n",
       "</div>"
      ],
      "text/plain": [
       "      Year  Month  DayOfMonth    Location  MinTemp  MaxTemp  Rainfall  \\\n",
       "5334  2009      1           1  WaggaWagga      9.9     28.4       0.0   \n",
       "5335  2009      1           2  WaggaWagga      8.9     25.3       0.0   \n",
       "5336  2009      1           3  WaggaWagga     11.0     30.7       0.0   \n",
       "5337  2009      1           4  WaggaWagga     14.7     35.2       0.0   \n",
       "5338  2009      1           5  WaggaWagga     11.8     36.5       0.0   \n",
       "...    ...    ...         ...         ...      ...      ...       ...   \n",
       "7745  2016      4          22  WaggaWagga     14.7     24.2       1.4   \n",
       "7746  2016      4          23  WaggaWagga      9.6     23.5       0.0   \n",
       "7747  2016      4          24  WaggaWagga      7.5     24.1       0.0   \n",
       "7748  2016      4          25  WaggaWagga      8.0     24.2       0.0   \n",
       "7749  2016      4          26  WaggaWagga      7.8     25.3       0.0   \n",
       "\n",
       "      Evaporation  Sunshine  WindGustDir  ...  Humidity9am  Humidity3pm  \\\n",
       "5334          9.8      13.5        157.5  ...         37.0         24.0   \n",
       "5335         14.8      13.7        202.5  ...         37.0         10.0   \n",
       "5336          9.8      13.7         67.5  ...         43.0         18.0   \n",
       "5337          9.4      12.1         90.0  ...         46.0         19.0   \n",
       "5338         11.6      13.4        180.0  ...         23.0          5.0   \n",
       "...           ...       ...          ...  ...          ...          ...   \n",
       "7745          2.8       7.9        225.0  ...         85.0         52.0   \n",
       "7746          3.4      10.7         67.5  ...         56.0         24.0   \n",
       "7747          3.6      10.7         22.5  ...         48.0         25.0   \n",
       "7748          3.8      10.4         22.5  ...         63.0         32.0   \n",
       "7749          4.0      10.5         67.5  ...         55.0         22.0   \n",
       "\n",
       "      Pressure9am  Pressure3pm  Cloud9am  Cloud3pm  Temp9am  Temp3pm  \\\n",
       "5334       1005.2       1003.5       1.0       1.0     20.8     27.0   \n",
       "5335       1013.9       1012.9       1.0       0.0     14.7     23.2   \n",
       "5336       1017.8       1014.3       0.0       1.0     18.9     28.0   \n",
       "5337       1014.8       1010.6       1.0       4.0     24.7     33.7   \n",
       "5338       1013.1       1009.8       1.0       1.0     23.6     34.6   \n",
       "...           ...          ...       ...       ...      ...      ...   \n",
       "7745       1021.7       1018.9       1.0       3.0     17.5     22.0   \n",
       "7746       1026.2       1024.2       1.0       1.0     15.7     22.5   \n",
       "7747       1030.6       1027.6       0.0       1.0     15.0     23.7   \n",
       "7748       1032.0       1027.8       0.0       1.0     16.0     23.7   \n",
       "7749       1030.2       1025.4       0.0       3.0     15.3     24.8   \n",
       "\n",
       "      RainToday  RainTomorrow  \n",
       "5334          0             0  \n",
       "5335          0             0  \n",
       "5336          0             0  \n",
       "5337          0             0  \n",
       "5338          0             0  \n",
       "...         ...           ...  \n",
       "7745          1             0  \n",
       "7746          0             0  \n",
       "7747          0             0  \n",
       "7748          0             0  \n",
       "7749          0             0  \n",
       "\n",
       "[2416 rows x 25 columns]"
      ]
     },
     "execution_count": 8,
     "metadata": {},
     "output_type": "execute_result"
    }
   ],
   "source": [
    "#Write your code here\n",
    "\n",
    "mask = aussie_weather_data[\"Location\"] == \"WaggaWagga\"\n",
    "\n",
    "WaggaWagga_weather_data = aussie_weather_data[mask]\n",
    "\n",
    "WaggaWagga_weather_data"
   ]
  },
  {
   "cell_type": "markdown",
   "metadata": {},
   "source": [
    "#### 1.4 (3 Points)\n",
    "Finally, before we start creating our models, let's first split our data into training and testing datasets. **Keep in mind what we want our model to predict and how this dataset gives you the information you need for your model.**"
   ]
  },
  {
   "cell_type": "code",
   "execution_count": 72,
   "metadata": {},
   "outputs": [],
   "source": [
    "#Write your code here\n",
    "import sklearn\n",
    "from sklearn.model_selection import train_test_split\n",
    "\n",
    "X = WaggaWagga_weather_data.iloc[:, 4:24]\n",
    "\n",
    "y= WaggaWagga_weather_data[\"RainTomorrow\"]\n",
    "\n",
    "X_train,X_test,y_train,y_test = train_test_split(X,y,test_size=0.33, random_state=1337)\n",
    "\n"
   ]
  },
  {
   "cell_type": "markdown",
   "metadata": {},
   "source": [
    "## 2.0 Building a Regression Model\n",
    "\n",
    "#### 2.1 (3 Points)\n",
    "We’ll start by creating a regression model. **Does it make sense for us to use linear regression or logistic regression? Explain your choice.**"
   ]
  },
  {
   "cell_type": "markdown",
   "metadata": {},
   "source": [
    "*A logistic regression would make the most sense since whether or not it rains tomorrow is a binary variable.*"
   ]
  },
  {
   "cell_type": "markdown",
   "metadata": {},
   "source": [
    "#### 2.2 (12 Points)\n",
    "Create a regression model. Use the model summary to determine which parameters are most statistically significant in your model. If you get an error during at this stage it may be helpful to go back to part 1.3 and ensure that all of your data is appropriate for creating a model. "
   ]
  },
  {
   "cell_type": "code",
   "execution_count": 73,
   "metadata": {},
   "outputs": [
    {
     "name": "stdout",
     "output_type": "stream",
     "text": [
      "Optimization terminated successfully.\n",
      "         Current function value: 0.218130\n",
      "         Iterations 8\n",
      "                           Logit Regression Results                           \n",
      "==============================================================================\n",
      "Dep. Variable:           RainTomorrow   No. Observations:                 1618\n",
      "Model:                          Logit   Df Residuals:                     1598\n",
      "Method:                           MLE   Df Model:                           19\n",
      "Date:                Sat, 22 Apr 2023   Pseudo R-squ.:                  0.5370\n",
      "Time:                        22:04:17   Log-Likelihood:                -352.93\n",
      "converged:                       True   LL-Null:                       -762.35\n",
      "Covariance Type:            nonrobust   LLR p-value:                2.130e-161\n",
      "=================================================================================\n",
      "                    coef    std err          z      P>|z|      [0.025      0.975]\n",
      "---------------------------------------------------------------------------------\n",
      "MinTemp           0.0699      0.061      1.152      0.250      -0.049       0.189\n",
      "MaxTemp           0.1137      0.111      1.028      0.304      -0.103       0.331\n",
      "Rainfall          0.0421      0.018      2.332      0.020       0.007       0.077\n",
      "Evaporation       0.0226      0.051      0.441      0.659      -0.078       0.123\n",
      "Sunshine         -0.2758      0.059     -4.681      0.000      -0.391      -0.160\n",
      "WindGustDir      -0.0004      0.001     -0.320      0.749      -0.003       0.002\n",
      "WindGustSpeed     0.1000      0.012      8.183      0.000       0.076       0.124\n",
      "WindDir9am       -0.0021      0.001     -1.845      0.065      -0.004       0.000\n",
      "WindDir3pm        0.0003      0.001      0.222      0.824      -0.002       0.003\n",
      "WindSpeed9am     -0.0272      0.018     -1.493      0.135      -0.063       0.009\n",
      "WindSpeed3pm     -0.0364      0.017     -2.085      0.037      -0.071      -0.002\n",
      "Humidity9am      -0.0051      0.014     -0.368      0.713      -0.032       0.022\n",
      "Humidity3pm       0.0653      0.014      4.819      0.000       0.039       0.092\n",
      "Pressure9am       0.4938      0.072      6.840      0.000       0.352       0.635\n",
      "Pressure3pm      -0.5010      0.072     -6.928      0.000      -0.643      -0.359\n",
      "Cloud9am         -0.0551      0.063     -0.876      0.381      -0.179       0.068\n",
      "Cloud3pm          0.1030      0.067      1.527      0.127      -0.029       0.235\n",
      "Temp9am           0.0208      0.089      0.232      0.816      -0.155       0.196\n",
      "Temp3pm          -0.1612      0.106     -1.521      0.128      -0.369       0.047\n",
      "RainToday         0.0125      0.313      0.040      0.968      -0.602       0.627\n",
      "=================================================================================\n"
     ]
    }
   ],
   "source": [
    "#Write your code here\n",
    "\n",
    "\n",
    "from sklearn.metrics import accuracy_score\n",
    "import statsmodels.api as sm\n",
    "\n",
    "logreg = sm.Logit(y_train,X_train)\n",
    "\n",
    "result = logreg.fit()\n",
    "\n",
    "print(result.summary() )\n",
    "\n",
    "      \n",
    "\n",
    "\n",
    "\n",
    "\n"
   ]
  },
  {
   "cell_type": "markdown",
   "metadata": {},
   "source": [
    "Statistically Significant Variables:\n",
    "\n",
    "Sunshine\n",
    "WindGustSpeed\n",
    "WindSpeed9am\n",
    "Humidity3pm\n",
    "Pressure9am\n",
    "Pressure3pm\n"
   ]
  },
  {
   "cell_type": "markdown",
   "metadata": {},
   "source": [
    "#### 2.3 (8 Points)\n",
    "**Fit your test data and create/print a confusion matrix. We’ll use this to evaluate how well your predicitve model performs.**"
   ]
  },
  {
   "cell_type": "code",
   "execution_count": 74,
   "metadata": {},
   "outputs": [
    {
     "name": "stdout",
     "output_type": "stream",
     "text": [
      "Precision:  0.7142857142857143\n",
      "Recall:  0.5882352941176471\n"
     ]
    },
    {
     "data": {
      "text/plain": [
       "0.8897243107769424"
      ]
     },
     "execution_count": 74,
     "metadata": {},
     "output_type": "execute_result"
    }
   ],
   "source": [
    "#Write your code here\n",
    "from sklearn.metrics import confusion_matrix\n",
    "from sklearn.metrics import precision_score, recall_score\n",
    "\n",
    "predictions = result.predict(X_test)\n",
    "binary_predictions = (predictions > 0.5).astype(int)\n",
    "cm = confusion_matrix(y_true=y_test, y_pred=binary_predictions)\n",
    "\n",
    "precision = precision_score(y_true=y_test, y_pred=binary_predictions)\n",
    "recall = recall_score(y_true=y_test, y_pred=binary_predictions)\n",
    "accuracylog = accuracy_score(y_test, binary_predictions)\n",
    "\n",
    "print(\"Precision: \", precision)\n",
    "print(\"Recall: \", recall)\n",
    "accuracylog"
   ]
  },
  {
   "cell_type": "markdown",
   "metadata": {},
   "source": [
    "#### 2.4 (3 Points)\n",
    "Look at/calculate the Precision and Recall of your model. **Which one is greater? Describe in plain language what that means about the performance of your model (I.e., the circumstances in which it does/doesn’t do well).**"
   ]
  },
  {
   "cell_type": "markdown",
   "metadata": {},
   "source": [
    "*Precision is higher than recall. In other words, the model is making fewer false positive predictions compared to false negatives. It performs better the circumstances where the data contains a lot negatives.*"
   ]
  },
  {
   "cell_type": "markdown",
   "metadata": {},
   "source": [
    "## 3.0 Interlude: A Base Rate Frequency Model (12 Points)\n",
    "\n",
    "If we didn't create a fancy model for predicting future rainfall, would that mean that we had *no way* of predicting if it would rain? Of course not. There's always *some* kind of model we can use (they just won't be very sophisticated). \n",
    "\n",
    "In the case of our problem--predicting whether it will rain tomorrow--what is the simplest model we could use? We'd need to look at the **base rate frequency**. If we know that, over the course of the year, it rains ~30% of the time, that would be our base rate frequency. If we were to guess that it would be sunny every day of the year, we'd be wrong ~30% of the time, *but we'd be right ~70% of the time.* \n",
    "\n",
    "Why is this important? Imagine we create a sophisticated model that accurately predicts rain/no rain ~60% of the time; without any other information, we might think, \"That's not too bad, I guess.\" It certainly feels better than *no* information, right? Now think about the base rate frequency model, which achieves an accuracy of **70%** just by guessing the same thing every time. Suddenly, our sophisticated model seems like crap! It tells us we could be doing ~10% better than our fancy model by guessing. This is why we use the base rate frequency as a simple way to test our models.\n",
    "\n",
    "\n",
    "**Calculate how frequently it rains in your city. If you were to guess that it *wasn't* going to rain every day, how frequently would you be right? (We'll use this as our baseline model.)**\n"
   ]
  },
  {
   "cell_type": "code",
   "execution_count": 51,
   "metadata": {},
   "outputs": [
    {
     "data": {
      "text/plain": [
       "0.8232615894039735"
      ]
     },
     "execution_count": 51,
     "metadata": {},
     "output_type": "execute_result"
    }
   ],
   "source": [
    "#Write your code for calculating the frequency of rain here.\n",
    "\n",
    "count = 0\n",
    "\n",
    "for i in WaggaWagga_weather_data[\"RainTomorrow\"]:\n",
    "    if i == 0:\n",
    "        count+= 1\n",
    "\n",
    "\n",
    "count / len(WaggaWagga_weather_data[\"RainTomorrow\"])\n"
   ]
  },
  {
   "cell_type": "markdown",
   "metadata": {},
   "source": [
    "*82.3% of the time.*"
   ]
  },
  {
   "cell_type": "markdown",
   "metadata": {},
   "source": [
    "---\n",
    "\n",
    "### &#128721; STOP (3 Point)\n",
    "**Pause to commit your changes to your Git repository!**\n",
    "\n",
    "Take a moment to save your notebook, commit the changes to your Git repository with a meaningful commit message.\n",
    "\n",
    "---"
   ]
  },
  {
   "cell_type": "markdown",
   "metadata": {},
   "source": [
    "## 4.0 SVM Model\n",
    "\n",
    "We’ve seen how regression faired in predicting rain; now let’s give Support Vector Machines a shot. \n",
    "\n",
    "It’s not clear, *a priori*, which type of kernel (linear or RBF) would fair better. Therefore, we’ll need to test out both kernel types, as well as multiple values for hyperparameters ($C$ and $\\gamma$). \n",
    "\n",
    "#### 4.1 (12 Points)\n",
    "Run a grid search over both types of kernels and multiple values of $C$ and $\\gamma$ (we recommend [0.01,0.1,1.0,10.0] for both). We *STRONGLY* recommend you set the parameter `n_jobs=-1` in `GridSearchCV`, which will distribute the computational load. Make sure to write down your best-fit hyperparameters. "
   ]
  },
  {
   "cell_type": "code",
   "execution_count": 75,
   "metadata": {},
   "outputs": [],
   "source": [
    "#Write your code here\n",
    "\n",
    "from sklearn.svm import SVC\n",
    "from sklearn.model_selection import GridSearchCV\n",
    "\n",
    "svm = SVC()\n",
    "param_grid = {'C': [0.01,0.1,1.0,10.0], 'kernel': ['linear', 'rbf', 'sigmoid'], 'gamma': [0.01,0.1,1.0,10.0]}\n",
    "\n",
    "grid_search = GridSearchCV(svm, param_grid,n_jobs=-1)\n",
    "\n",
    "grid_search.fit(X_train, y_train)\n",
    "\n",
    "best_params = grid_search.best_params_\n",
    "\n",
    "\n"
   ]
  },
  {
   "cell_type": "markdown",
   "metadata": {},
   "source": [
    "*C: 0.01 gamma: 0.01*"
   ]
  },
  {
   "cell_type": "markdown",
   "metadata": {},
   "source": [
    "#### 4.2 (8 Points)\n",
    "Using your best-fit parameters, classify your test data and print off the confusion matrix. Note/calculate the Precision and Recall for your SVM model, as well as the overall accuracy.\n",
    "\n",
    "$\\mathrm{Accuracy} = \\frac{\\mathrm{Accurate~Predictions}}{\\mathrm{Total~Samples}}$."
   ]
  },
  {
   "cell_type": "code",
   "execution_count": 76,
   "metadata": {},
   "outputs": [
    {
     "name": "stdout",
     "output_type": "stream",
     "text": [
      "Precision: 0.7027027027027027\n",
      "Recall: 0.5735294117647058\n",
      "Accuracy SVM: 0.8859649122807017\n",
      "Accuracy Logistic Reg: 0.8897243107769424\n",
      "[[629  33]\n",
      " [ 58  78]]\n"
     ]
    }
   ],
   "source": [
    "#Write your code here\n",
    "\n",
    "best_svm = SVC(C=grid_search.best_params_['C'], kernel=grid_search.best_params_['kernel'])\n",
    "best_svm.fit(X_train, y_train)\n",
    "y_pred = best_svm.predict(X_test)\n",
    "confusion_mat = confusion_matrix(y_test, y_pred)\n",
    "precision = precision_score(y_test, y_pred)\n",
    "recall = recall_score(y_test, y_pred)\n",
    "accuracysvm = accuracy_score(y_test, y_pred)\n",
    "\n",
    "print(\"Precision:\", precision)\n",
    "print(\"Recall:\", recall)\n",
    "print(\"Accuracy SVM:\", accuracysvm)\n",
    "print(\"Accuracy Logistic Reg:\", accuracylog)\n",
    "print(confusion_mat)"
   ]
  },
  {
   "cell_type": "markdown",
   "metadata": {},
   "source": [
    "## 5. Evaluation of Models\n",
    "\n",
    "Here we’re going to investigate how well our predictive models actually work.\n",
    "\n",
    "\n",
    "#### 5.1 (5 Points)\n",
    "\n",
    "Compare the accuracy of both of your predictive models (regression and SVM) to the baseline model from part 3. Do your predictive models do better than the baseline model? Is their performance relative to the baseline model what *you* would expect? \n"
   ]
  },
  {
   "cell_type": "markdown",
   "metadata": {},
   "source": [
    "*Maybe it is the way I executed the cells, but the Accuracy of the models are the same. I guess it's possible, but seems unlikely to me. They both do better than the baseline model, which is difficult considering the baseline was 82%. In comparison to my expectations, it's about in line with what I expected. I had a feeling the models would perform well, but I was unsure if they would be able to do better than the baseline 82%*"
   ]
  },
  {
   "cell_type": "markdown",
   "metadata": {},
   "source": [
    "#### 5.2 (5 Points)\n",
    "\n",
    "Let’s test the robustness of your model. Before you do anything, you should record the precision, recall, and accuracy of your two predictive models (if you haven’t already). Once you’ve done that, go all the way back to part 1.4 and change the random seed for `train_test_split`. Using this new data split, rerun all of your code from parts 2 and 4. For each new random seed, record the precision, recall, and accuracy for both models (and write them, as well as the random seed, in the cell below!). Do this for 3-5 different random seeds. \n"
   ]
  },
  {
   "cell_type": "markdown",
   "metadata": {},
   "source": [
    "Iteration 1:\n",
    "Seed: 69\n",
    "Logistic Regression:\n",
    "Precision:0.7377049180327869\n",
    "Recall:0.6081081081081081\n",
    "Accuracy:0.8872180451127819\n",
    "SVM:\n",
    "Precision:0.7788461538461539\n",
    "Recall:0.5472972972972973\n",
    "Accuracy:0.8872180451127819\n",
    "\n",
    "Iteration 2:\n",
    "Seed: 420\n",
    "Logistic Regression: \n",
    "Precision:0.7384615384615385\n",
    "Recall:0.6956521739130435\n",
    "Accuracy:0.9047619047619048\n",
    "SVM:\n",
    "Precision:0.7589285714285714\n",
    "Recall:0.6159420289855072\n",
    "Accuracy:0.899749373433584\n",
    "\n",
    "Iteration 3:\n",
    "Seed:1337\n",
    "Logistic Regression:\n",
    "Precision:0.7142857142857143\n",
    "Recall:0.5882352941176471\n",
    "Accuracy:0.8897243107769424\n",
    "SVM:\n",
    "Precision:0.7027027027027027\n",
    "Recall:0.5735294117647058\n",
    "Accuracy:0.8859649122807017\n",
    "\n"
   ]
  },
  {
   "cell_type": "markdown",
   "metadata": {},
   "source": [
    "#### 5.3 (5 Points)\n",
    "\n",
    "How much variation did you observe in the precision, recall, and accuracy in your models? After going through this exercise, how (if at all) does this change your response to part 5.1? "
   ]
  },
  {
   "cell_type": "markdown",
   "metadata": {},
   "source": [
    "*There's enough variation to distuinguish each seed, but they all seem to be in the same band of 0.1-0.2. However, since the models had the same accuracy in the first iteration, after running a couple iterations it seems that the logistic regression is performing better than the SVM.*"
   ]
  },
  {
   "cell_type": "markdown",
   "metadata": {},
   "source": [
    "#### 5.4 (5 Points)\n",
    "\n",
    "Finally, compare the performance of your regression and SVM models. Which, if any, performed better? Esxplain."
   ]
  },
  {
   "cell_type": "markdown",
   "metadata": {},
   "source": [
    "*As I mentioned in 5.3, the accuracy of the regression performed better than the SVM, thus I would say that the logistic regression model*"
   ]
  },
  {
   "cell_type": "markdown",
   "metadata": {},
   "source": [
    "---\n",
    "\n",
    "### &#128721; STOP (3 Point)\n",
    "**Pause to commit your changes to your Git repository!**\n",
    "\n",
    "Take a moment to save your notebook, commit the changes to your Git repository with a meaningful commit message.\n",
    "\n",
    "---"
   ]
  },
  {
   "cell_type": "markdown",
   "metadata": {},
   "source": [
    "### Congratulations, you're done!"
   ]
  },
  {
   "cell_type": "markdown",
   "metadata": {},
   "source": [
    "&#169; Copyright 2022,  Department of Computational Mathematics, Science and Engineering at Michigan State University"
   ]
  }
 ],
 "metadata": {
  "kernelspec": {
   "display_name": "Python 3",
   "language": "python",
   "name": "python3"
  },
  "language_info": {
   "codemirror_mode": {
    "name": "ipython",
    "version": 3
   },
   "file_extension": ".py",
   "mimetype": "text/x-python",
   "name": "python",
   "nbconvert_exporter": "python",
   "pygments_lexer": "ipython3",
   "version": "3.8.8"
  }
 },
 "nbformat": 4,
 "nbformat_minor": 2
}
